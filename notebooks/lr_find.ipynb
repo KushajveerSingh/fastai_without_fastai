{
 "cells": [
  {
   "cell_type": "code",
   "execution_count": 1,
   "metadata": {},
   "outputs": [],
   "source": [
    "import torch\n",
    "import torch.nn as nn\n",
    "import torchvision\n",
    "\n",
    "import numpy as np\n",
    "import matplotlib.pyplot as plt\n",
    "\n",
    "%matplotlib inline\n",
    "%load_ext autoreload\n",
    "%autoreload 2\n",
    "\n",
    "import sys\n",
    "sys.path.insert(0, '../')"
   ]
  },
  {
   "cell_type": "markdown",
   "metadata": {},
   "source": [
    "You only need to import __`lr_find`__ and __`plot_lr_find`__ from `lr_find.py`.\n",
    "\n",
    "For the coding part, you only need to change lr_find function, in cases where your data pipeline is not standard. lr_find is built using the standard data pipeline where your dataloader gives you two values as a tuple, __(inputs, labels)__ and then your give them to your model. In case you use complex data pipline, you would have to change that and changing it is as simple as copying your train step.\n",
    "\n",
    "```python\n",
    "################### TO BE MODIFIED ###################\n",
    "# Depending on your model, you will have to modify your\n",
    "# data pipeline and how you give inputs to your model.\n",
    "inputs, labels = data\n",
    "if use_gpu:\n",
    "    inputs = inputs.to(device)\n",
    "    labels = inputs.to(device)\n",
    "\n",
    "outputs = model(inputs)\n",
    "loss = loss_fn(outputs, labels)\n",
    "#####################################################\n",
    "```\n",
    "\n",
    "And the second optional change that you can do in the __`lr_find`__ is disable AdamW. For those that don't know, pytorch implements the regularization in Adam incorrectly (issue being discussed on [github](https://github.com/pytorch/pytorch/pull/3740)). AdamW solves this. For more info about AdamW read [this](https://www.fast.ai/2018/07/02/adam-weight-decay/). To disable, just comment out the lines.\n",
    "\n",
    "And in cases where you are maximizing loss function, you would have to change that as well in the function. But I doubt that anyone would ever need that."
   ]
  },
  {
   "cell_type": "markdown",
   "metadata": {},
   "source": [
    "## 1. How to use lr_find.py"
   ]
  },
  {
   "cell_type": "code",
   "execution_count": 2,
   "metadata": {},
   "outputs": [],
   "source": [
    "# You only need to import 2 functions. There are many other functions \n",
    "# in the script as well, but you will never need to modify them.\n",
    "from src.lr_find import lr_find, plot_lr_find"
   ]
  },
  {
   "cell_type": "markdown",
   "metadata": {},
   "source": [
    "## 2. Create model and data_loader\n",
    "This step would be specific to your project. I show a short example here with resnet18"
   ]
  },
  {
   "cell_type": "code",
   "execution_count": 3,
   "metadata": {},
   "outputs": [],
   "source": [
    "# Get data\n",
    "path = '/home/kushaj/Desktop/Data/cifar10/train/'\n",
    "transform = torchvision.transforms.Compose(\n",
    "    [torchvision.transforms.ToTensor(),\n",
    "     torchvision.transforms.Normalize((0.5, 0.5, 0.5), (0.5, 0.5, 0.5))])\n",
    "trainset = torchvision.datasets.ImageFolder(path, transform=transform)\n",
    "data = torch.utils.data.DataLoader(trainset, batch_size=128, shuffle=True, num_workers=8)\n",
    "\n",
    "# Create model\n",
    "device = torch.device('cuda')\n",
    "model = torchvision.models.resnet18()  # Not using pretrained\n",
    "model = model.to(device)\n",
    "\n",
    "criterion = nn.CrossEntropyLoss()\n",
    "optim = torch.optim.Adam(model.parameters(), lr=0.001)  \n",
    "# You do not need to worry about lr here, just set it to any value"
   ]
  },
  {
   "cell_type": "markdown",
   "metadata": {},
   "source": [
    "## 3. Use lr_find"
   ]
  },
  {
   "cell_type": "code",
   "execution_count": 4,
   "metadata": {},
   "outputs": [
    {
     "name": "stdout",
     "output_type": "stream",
     "text": [
      "Iteration: 10\n",
      "Iteration: 20\n",
      "Iteration: 30\n",
      "Iteration: 40\n",
      "Iteration: 50\n",
      "Iteration: 60\n",
      "Iteration: 70\n",
      "Iteration: 80\n",
      "Iteration: 90\n",
      "LR Finder is complete.\n"
     ]
    }
   ],
   "source": [
    "losses, lrs = lr_find(data, model, criterion, optim)"
   ]
  },
  {
   "cell_type": "markdown",
   "metadata": {},
   "source": [
    "## 4. Plot the learning_rate vs losses"
   ]
  },
  {
   "cell_type": "code",
   "execution_count": 5,
   "metadata": {},
   "outputs": [
    {
     "data": {
      "image/png": "[encoded data removed]",
      "text/plain": [
       "<Figure size 432x288 with 1 Axes>"
      ]
     },
     "metadata": {
      "needs_background": "light"
     },
     "output_type": "display_data"
    }
   ],
   "source": [
    "# I have some other plans to use the above losses and lrs, so I did not merge \n",
    "# the two functions, but you can easily merge the functions if you want.\n",
    "plot_lr_find(losses, lrs)"
   ]
  },
  {
   "cell_type": "code",
   "execution_count": 6,
   "metadata": {},
   "outputs": [
    {
     "name": "stdout",
     "output_type": "stream",
     "text": [
      "Min numerical gradient: 1.20E-03\n"
     ]
    },
    {
     "data": {
      "image/png": "[encoded data removed]",
      "text/plain": [
       "<Figure size 432x288 with 1 Axes>"
      ]
     },
     "metadata": {
      "needs_background": "light"
     },
     "output_type": "display_data"
    }
   ],
   "source": [
    "plot_lr_find(losses, lrs, suggestion=True)"
   ]
  },
  {
   "cell_type": "markdown",
   "metadata": {},
   "source": [
    "For reference I show below the plot for a similiar model on fastai. \n",
    "\n",
    "There are some changes with the fastai model, like the betas=(0.9, 0.99) for Adam and fastai uses Adam in a different way with momentum. But the results are very similiar."
   ]
  },
  {
   "cell_type": "markdown",
   "metadata": {},
   "source": [
    "<img src='Images/fastai_lr_find.png' style='width:400px'>"
   ]
  },
  {
   "cell_type": "markdown",
   "metadata": {},
   "source": [
    "This is the fastai plot"
   ]
  },
  {
   "cell_type": "markdown",
   "metadata": {},
   "source": [
    "## 5. Get the value of learning rate from the graph\n",
    "This comes to experience but the general guideline, is to see when the loss begins to increase and take the lr value close to it and for the other lr take one-tenth of the previous one. In order to get better intuitions about the above plots, I highly recomment Jeremy's Deep learning course [Practical Deep Learning for Coders, v3](https://course.fast.ai/)\n",
    "\n",
    "I am making a blog about this, so if you want to read state of the art techniques for training nerual networks in 2019, you can read that blog. I will update the link to blog in the README when it is ready."
   ]
  },
  {
   "cell_type": "markdown",
   "metadata": {},
   "source": [
    "## Extra tests\n",
    "For completeness, I use a pretrained model and then compare the two plots"
   ]
  },
  {
   "cell_type": "code",
   "execution_count": 7,
   "metadata": {},
   "outputs": [],
   "source": [
    "model = torchvision.models.resnet18(pretrained=True)\n",
    "model = model.to(device)\n",
    "\n",
    "criterion = nn.CrossEntropyLoss()\n",
    "optim = torch.optim.Adam(model.parameters(), lr=0.001)  "
   ]
  },
  {
   "cell_type": "code",
   "execution_count": 8,
   "metadata": {},
   "outputs": [
    {
     "name": "stdout",
     "output_type": "stream",
     "text": [
      "Iteration: 10\n",
      "Iteration: 20\n",
      "Iteration: 30\n",
      "Iteration: 40\n",
      "Iteration: 50\n",
      "Iteration: 60\n",
      "Iteration: 70\n",
      "Iteration: 80\n",
      "Iteration: 90\n",
      "LR Finder is complete.\n"
     ]
    }
   ],
   "source": [
    "losses, lrs = lr_find(data, model, criterion, optim)"
   ]
  },
  {
   "cell_type": "code",
   "execution_count": 9,
   "metadata": {},
   "outputs": [
    {
     "data": {
      "image/png": "[encoded data removed]",
      "text/plain": [
       "<Figure size 432x288 with 1 Axes>"
      ]
     },
     "metadata": {
      "needs_background": "light"
     },
     "output_type": "display_data"
    }
   ],
   "source": [
    "plot_lr_find(losses, lrs)"
   ]
  },
  {
   "cell_type": "markdown",
   "metadata": {},
   "source": [
    "Below is the fastai plot for the same model\n",
    "\n",
    "<img src='Images/fastai_lr_find_trained.png' style='width:400px'>"
   ]
  },
  {
   "cell_type": "code",
   "execution_count": null,
   "metadata": {},
   "outputs": [],
   "source": []
  }
 ],
 "metadata": {
  "kernelspec": {
   "display_name": "Python 3",
   "language": "python",
   "name": "python3"
  },
  "language_info": {
   "codemirror_mode": {
    "name": "ipython",
    "version": 3
   },
   "file_extension": ".py",
   "mimetype": "text/x-python",
   "name": "python",
   "nbconvert_exporter": "python",
   "pygments_lexer": "ipython3",
   "version": "3.7.3"
  }
 },
 "nbformat": 4,
 "nbformat_minor": 2
}
